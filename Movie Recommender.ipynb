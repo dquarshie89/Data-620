{
 "cells": [
  {
   "cell_type": "markdown",
   "metadata": {},
   "source": [
    "# Movie Recommender\n",
    "\n",
    "## Intro\n",
    "\n",
    "In todays on demand world, one of the most beneficial uses of a recommender system is suggesting which movie or TV show a user would be interested in watching. Netflix uses user history to recommend what people should watch next, but before a user builds up a substantial history one would guess that seen a preview of the show or at least read the plot to make sure they’ll enjoy what they want to watch. Kaggle has a list of around 35k movies and their plots that can be found here: https://www.kaggle.com/jrobischon/wikipedia-movie-plots. In this project I will take a sample of the movies in this CSV by filter to just movies created after 2008 and use their plots to make movie recommendations based on the plot of the movies a user likes. \n",
    "\n",
    "## Data \n",
    "The Kaggle data has movie data dating back to 1901 with other fields such as the movie's wikipedia page and country of origin. For the purpose of this project we'll filter the data to only include movies from after 2008 and only get the movie's title, release year, director, genre, and plot. This data will provide us with enough to see what kind of recommendations we can get with certrain inputs. \n"
   ]
  },
  {
   "cell_type": "markdown",
   "metadata": {},
   "source": [
    "## Import Movie File"
   ]
  },
  {
   "cell_type": "code",
   "execution_count": 2,
   "metadata": {},
   "outputs": [
    {
     "data": {
      "text/html": [
       "<div>\n",
       "<style scoped>\n",
       "    .dataframe tbody tr th:only-of-type {\n",
       "        vertical-align: middle;\n",
       "    }\n",
       "\n",
       "    .dataframe tbody tr th {\n",
       "        vertical-align: top;\n",
       "    }\n",
       "\n",
       "    .dataframe thead th {\n",
       "        text-align: right;\n",
       "    }\n",
       "</style>\n",
       "<table border=\"1\" class=\"dataframe\">\n",
       "  <thead>\n",
       "    <tr style=\"text-align: right;\">\n",
       "      <th></th>\n",
       "      <th>Title</th>\n",
       "      <th>Release Year</th>\n",
       "      <th>Director</th>\n",
       "      <th>Genre</th>\n",
       "      <th>Plot</th>\n",
       "    </tr>\n",
       "  </thead>\n",
       "  <tbody>\n",
       "    <tr>\n",
       "      <th>0</th>\n",
       "      <td>10,000 BC</td>\n",
       "      <td>2008</td>\n",
       "      <td>Roland Emmerich</td>\n",
       "      <td>adventure</td>\n",
       "      <td>At about 10,000 BC, a tribe of hunter-gatherer...</td>\n",
       "    </tr>\n",
       "    <tr>\n",
       "      <th>1</th>\n",
       "      <td>21</td>\n",
       "      <td>2008</td>\n",
       "      <td>Robert Luketic</td>\n",
       "      <td>drama</td>\n",
       "      <td>MIT maths major Ben Campbell (Jim Sturgess) is...</td>\n",
       "    </tr>\n",
       "    <tr>\n",
       "      <th>2</th>\n",
       "      <td>27 Dresses</td>\n",
       "      <td>2008</td>\n",
       "      <td>Anne Fletcher</td>\n",
       "      <td>romantic comedy</td>\n",
       "      <td>Jane Nichols (Katherine Heigl) has been a brid...</td>\n",
       "    </tr>\n",
       "    <tr>\n",
       "      <th>3</th>\n",
       "      <td>88 Minutes</td>\n",
       "      <td>2008</td>\n",
       "      <td>Jon Avnet</td>\n",
       "      <td>thriller</td>\n",
       "      <td>Forensic psychiatrist Dr. Jack Gramm (Al Pacin...</td>\n",
       "    </tr>\n",
       "    <tr>\n",
       "      <th>4</th>\n",
       "      <td>The Accidental Husband</td>\n",
       "      <td>2008</td>\n",
       "      <td>Griffin Dunne</td>\n",
       "      <td>romance</td>\n",
       "      <td>Patrick Sullivan (Jeffrey Dean Morgan) is look...</td>\n",
       "    </tr>\n",
       "  </tbody>\n",
       "</table>\n",
       "</div>"
      ],
      "text/plain": [
       "                    Title  Release Year         Director            Genre  \\\n",
       "0               10,000 BC          2008  Roland Emmerich        adventure   \n",
       "1                      21          2008   Robert Luketic            drama   \n",
       "2              27 Dresses          2008    Anne Fletcher  romantic comedy   \n",
       "3              88 Minutes          2008        Jon Avnet         thriller   \n",
       "4  The Accidental Husband          2008    Griffin Dunne          romance   \n",
       "\n",
       "                                                Plot  \n",
       "0  At about 10,000 BC, a tribe of hunter-gatherer...  \n",
       "1  MIT maths major Ben Campbell (Jim Sturgess) is...  \n",
       "2  Jane Nichols (Katherine Heigl) has been a brid...  \n",
       "3  Forensic psychiatrist Dr. Jack Gramm (Al Pacin...  \n",
       "4  Patrick Sullivan (Jeffrey Dean Morgan) is look...  "
      ]
     },
     "execution_count": 2,
     "metadata": {},
     "output_type": "execute_result"
    }
   ],
   "source": [
    "import pandas as pd\n",
    "from sklearn.feature_extraction.text import TfidfVectorizer\n",
    "from sklearn.metrics.pairwise import linear_kernel\n",
    "\n",
    "df = pd.read_csv('https://raw.githubusercontent.com/dquarshie89/Data-620/master/movie_plots.csv')\n",
    "\n",
    "#Preview movie data frame\n",
    "df.head(5)"
   ]
  },
  {
   "cell_type": "markdown",
   "metadata": {},
   "source": [
    "## TF-IDF\n",
    "Term Frequency-Inverse Document Frequency or TF-IDF is one of the most popular algorithms in text processing. The idea behind TF-IDF is that the algorithm will take the documents, in our case the documents are movie plots, and score how important each word in it is. It does this by looking at each unique word in the documents and then seeing how frquently that word is used in each document. The TF-IDF scores for words can then be made into vectors for each document that can then be used to create a matrix of scores. For our movie plots we can use the Python library scikit-learn's TfIdfVectorizer class that will produces the TF-IDF matrix for us. "
   ]
  },
  {
   "cell_type": "code",
   "execution_count": 3,
   "metadata": {},
   "outputs": [
    {
     "data": {
      "text/plain": [
       "(4030, 49109)"
      ]
     },
     "execution_count": 3,
     "metadata": {},
     "output_type": "execute_result"
    }
   ],
   "source": [
    "#Remove all stop words \n",
    "tfidf = TfidfVectorizer(stop_words='english')\n",
    "#Make the TF-IDF matrix using the words the movies' plots\n",
    "tfidf_matrix = tfidf.fit_transform(df['Plot'])\n",
    "#Output the shape of tfidf_matrix\n",
    "tfidf_matrix.shape\n"
   ]
  },
  {
   "cell_type": "markdown",
   "metadata": {},
   "source": [
    "The shape of our matrix tells us that there are 4,030 movies in our data frame and 49,109 unique words in their plots. "
   ]
  },
  {
   "cell_type": "markdown",
   "metadata": {},
   "source": [
    "# Cosine Similarity  \n",
    "Now that we have the TF_IDF matrix we can use it to get similarity scores so that we can compare the movies. For this project we'll go the cosine similarity score since it is fast to calculate. The cosine similarity score can be derived by taken the dot product of the TF-IDF vector's. The formula for the dot product is shown below but we can use sklearn's linear_kernel() to ge the results easily.\n",
    "\n",
    "\\begin{equation*}\n",
    "cosine(x,y) = \\frac{x \\cdot y^T}{\\mid\\mid{x}\\mid\\mid \\cdot \\mid\\mid{y}\\mid\\mid}\n",
    "\\end{equation*}\n"
   ]
  },
  {
   "cell_type": "code",
   "execution_count": 6,
   "metadata": {},
   "outputs": [
    {
     "data": {
      "text/plain": [
       "array([[1.00000000e+00, 6.62447541e-03, 4.48519788e-03, ...,\n",
       "        5.48106689e-03, 3.83218953e-03, 0.00000000e+00],\n",
       "       [6.62447541e-03, 1.00000000e+00, 1.38559553e-02, ...,\n",
       "        0.00000000e+00, 3.25548290e-03, 1.45588830e-03],\n",
       "       [4.48519788e-03, 1.38559553e-02, 1.00000000e+00, ...,\n",
       "        5.53065872e-04, 1.18131753e-02, 0.00000000e+00],\n",
       "       ...,\n",
       "       [5.48106689e-03, 0.00000000e+00, 5.53065872e-04, ...,\n",
       "        1.00000000e+00, 1.50412249e-03, 0.00000000e+00],\n",
       "       [3.83218953e-03, 3.25548290e-03, 1.18131753e-02, ...,\n",
       "        1.50412249e-03, 1.00000000e+00, 0.00000000e+00],\n",
       "       [0.00000000e+00, 1.45588830e-03, 0.00000000e+00, ...,\n",
       "        0.00000000e+00, 0.00000000e+00, 1.00000000e+00]])"
      ]
     },
     "execution_count": 6,
     "metadata": {},
     "output_type": "execute_result"
    }
   ],
   "source": [
    "#Cosine similarity matrix\n",
    "cosine_sim = linear_kernel(tfidf_matrix, tfidf_matrix)\n",
    "cosine_sim"
   ]
  },
  {
   "cell_type": "markdown",
   "metadata": {},
   "source": [
    "## Recommender Function  \n",
    "With our vectors made and everything scored we can go ahead and start to build our function that will recommend movies based on the plots a user liked. Our function will give us the top 10 movies based on the plot of a movie that user has selected. To get started we'll map each movie to an index so that when it is chosen the function can relate it back to the movie data frame. Then we'll get the list of pairwise cosine similarity scores for the chosen movie with all the other movies and rank the scores from most to least. The first movie that pairs with the chosen movie should be the exact movie that was picked so we'll ignore that one but the next 10 should have close enough scores showing that those movies are very similar. "
   ]
  },
  {
   "cell_type": "code",
   "execution_count": 7,
   "metadata": {},
   "outputs": [],
   "source": [
    "#Get indices for the movie titles\n",
    "indices = pd.Series(df.index, index=df['Title']).drop_duplicates()\n",
    "\n",
    "def get_recommendations(title, cosine_sim=cosine_sim):\n",
    "    #Get the index of the movie chosen\n",
    "    idx = indices[title]\n",
    "    #Get the pairwsie similarity scores of all movies with that movie\n",
    "    sim_scores = list(enumerate(cosine_sim[idx]))\n",
    "    #Sort the movies based on the similarity scores from greatest to least\n",
    "    sim_scores = sorted(sim_scores, key=lambda x: x[1], reverse=True)\n",
    "    #Get the scores of the 10 most similar movies, ingoring the 1st one\n",
    "    sim_scores = sim_scores[1:11]\n",
    "    #Get the movie indices\n",
    "    movie_indices = [i[0] for i in sim_scores]\n",
    "    #Return the top 10 most similar movies\n",
    "    return df['Title'].iloc[movie_indices]"
   ]
  },
  {
   "cell_type": "markdown",
   "metadata": {},
   "source": [
    "## Test the Recommender Function\n",
    "Our function is good to go. Let's test it out using the movie Baby Mama. We'll extract that plot from our data frame and see what movies the function suggests when we give it that movie."
   ]
  },
  {
   "cell_type": "code",
   "execution_count": 15,
   "metadata": {},
   "outputs": [
    {
     "data": {
      "text/plain": [
       "\"Kate Holbrook (Tina Fey) is a successful single businesswoman who has always put her career before her personal life. Now in her late thirties, she finally decides to have her own child, but her plans are dampened when she discovers she has a minuscule chance of becoming pregnant because her uterus is T-shaped. Also denied the chance to adopt, Kate hires an immature, obnoxious, South Philly woman named Angie Ostrowski (Amy Poehler) to become her surrogate mother.\\r\\nWhen Angie becomes pregnant, Kate prepares for motherhood in her own typically driven fashion—until her surrogate shows up at her door with no place to live. Their conflicting personalities put them at odds as Kate learns first-hand about balancing motherhood and career and also dates the owner of a local blended-juice cafe, Rob Ackerman (Greg Kinnear).\\r\\nUnknown to Kate, the in-vitro fertilization procedure Angie had did not succeed and she is feigning the pregnancy, hoping to ultimately run off with her payment. Eventually she starts to regret lying about not being pregnant, but she continually puts off confessing. When she gets an ultrasound, she discovers she is pregnant for real. Realizing the baby is her own (with her common-law husband Carl (Dax Shepard), from whom she is separated), Angie is forced to confess at Kate's baby shower. When Kate explains to Angie that the pregnancy test was supposed to be taken two weeks after the procedure, and that the baby could still belong to her, a wedge is driven between the two women.\\r\\nA court hearing determines that the baby is Angie's, and Angie makes an impassioned apology to Kate. As the women meet face-to-face after the proceedings, Angie's water breaks and Kate rushes her to the hospital, then passes out during the birth. As she wakes up, the doctor supervising Angie's pregnancy tells Kate that she's two months pregnant (the result of her relationship with her new boyfriend). After receiving the news, she visits Angie, who is holding her new baby daughter Stef, named for Gwen Stefani. Kate forgives Angie and the two become best friends, ultimately changing each other for the better.\\r\\nAngie and Kate raise their children and are in a sister-like relationship one year later at Stef's first-birthday party. It is revealed that Kate and Rob are very proud parents of a baby daughter and are engaged. Although he does not reunite with Angie, Carl stays close to his daughter and takes parenting classes. The final scene shows Angie and Kate sitting in front of a television set with their children, watching Tom and Jerry cartoons, a reference to an earlier line in the film.\""
      ]
     },
     "execution_count": 15,
     "metadata": {},
     "output_type": "execute_result"
    }
   ],
   "source": [
    "#Baby Mama Plot\n",
    "df.loc[df['Title'] == 'Baby Mama', 'Plot'].item()"
   ]
  },
  {
   "cell_type": "code",
   "execution_count": 16,
   "metadata": {},
   "outputs": [
    {
     "data": {
      "text/plain": [
       "993                Smashed\n",
       "322     My Sister's Keeper\n",
       "530         Preacher's Kid\n",
       "117     Over Her Dead Body\n",
       "2016        Beautiful Kate\n",
       "1495        You're Not You\n",
       "337                 Orphan\n",
       "57        Four Christmases\n",
       "3618      Strawberry Cliff\n",
       "1114      Drinking Buddies\n",
       "Name: Title, dtype: object"
      ]
     },
     "execution_count": 16,
     "metadata": {},
     "output_type": "execute_result"
    }
   ],
   "source": [
    "#Baby Mama Recommendations\n",
    "get_recommendations('Baby Mama')"
   ]
  },
  {
   "cell_type": "markdown",
   "metadata": {},
   "source": [
    "Looking at our results we can see that Baby Mama is a movie about a career driven woman, Kate, who wants to use a surrogate to have a child. The surrogate turns out to be immature woman, Angie, who plans to run off with Kate's money and not give her a child. The two learn from and change each other for the better and both end up having kids. Wow...what a movie.\n",
    "\n",
    "Our recommender system's first suggestion to Baby Mama is a movie called Smashed. Let's take a look at it's plot."
   ]
  },
  {
   "cell_type": "code",
   "execution_count": 17,
   "metadata": {},
   "outputs": [
    {
     "data": {
      "text/plain": [
       "'Kate Hannah (Mary Elizabeth Winstead), an elementary school teacher, arrives at work hungover and vomits in front of her class. Asked by a student if she is pregnant, she pretends she is, then continues the lie to the school principal, Mrs. Barnes (Megan Mullally). Her co-worker Dave (Nick Offerman) reveals that he knows she has been drinking and she makes him swear not to tell anyone.\\r\\nAttending a party with her husband Charlie (Aaron Paul) and his brother Owen (Kyle Gallner), Kate drinks heavily. While leaving, she meets a woman who asks Kate for a ride. Kate is offered crack and the two get high together. The next morning, Kate wakes alone on the street. She finds her car and drives home, where Charlie acknowledges they both are alcoholics. They get intoxicated and have sex before Charlie passes out. Kate heads out alone to buy wine but is turned down by the cashier. She urinates on the floor because the bathroom door is locked, then steals a bottle of wine.\\r\\nWaking up, Kate realizes she has passed out again. At work, Dave, a recovering alcoholic, invites her to an Alcoholics Anonymous (AA) meeting. There, she befriends Jenny (Octavia Spencer), who has chosen a passion for food and cooking over alcohol. Kate decides to become sober and change her life. Dave drives Kate home, but bluntly makes an offensive comment which upsets her. When Kate and Charlie visit her estranged alcoholic mother, Rochelle (Mary Kay Place), Kate mentions the AA meetings but Rochelle is skeptical; Kate\\'s father left them after getting sober and now lives in another state with his \"shiny new family\".\\r\\nKate is surprised the next day when she is thrown a baby shower by her colleagues. She reconciles with Dave, putting his comments behind them. At home, Kate is angry when it becomes clear Charlie told Owen and his friend about Kate smoking crack. That night, she rebuffs Charlie\\'s sexual advances. At school, Kate is questioned by a curious student as to why she is not gaining weight. She subsequently feigns a miscarriage and her students accuse her of killing her baby, for which she reprimands them.\\r\\nKate tells Charlie she feels she must confess to Mrs. Barnes the truth about her faked pregnancy. Charlie discourages her, warning that she will lose her job, and they begin to fight over financial issues. Kate lashes back that she would never depend on Charlie\\'s parents\\' money and that she has struggled her whole life. Kate decides to tell Mrs. Barnes the truth and is fired. In a bar, she relapses. Jenny and Dave drive her home, where she starts an altercation with Charlie.\\r\\nAfter some time, Kate speaks at an AA meeting, celebrating one year of sobriety, while Charlie gets in trouble for riding a bicycle while drunk. Kate visits Charlie and they play croquet. Charlie asks if she would move back in with him if he begins going to AA meetings. Kate says he must get sober for himself, not for her. Charlie then asks Kate to play another round, to give him a chance to redeem himself. The film ends before Kate gives her answer.'"
      ]
     },
     "execution_count": 17,
     "metadata": {},
     "output_type": "execute_result"
    }
   ],
   "source": [
    "#Smashed Plot\n",
    "df.loc[df['Title'] == 'Smashed', 'Plot'].item()"
   ]
  },
  {
   "cell_type": "markdown",
   "metadata": {},
   "source": [
    "We see that Smashed is a movie focused around a young woman who wants to change her life and stop drinking. The plot mentions a lot of themes that Baby Mama also refernced, babies, pregnancy, faking pregnancies, and relationships. We can see why the recommender would suggest this. \n",
    "\n",
    "Let's pick another movie and see what results we get"
   ]
  },
  {
   "cell_type": "markdown",
   "metadata": {},
   "source": [
    "## Spider-Man Recommendations"
   ]
  },
  {
   "cell_type": "code",
   "execution_count": 18,
   "metadata": {},
   "outputs": [
    {
     "data": {
      "text/plain": [
       "788     Amazing Spider-Man, TheThe Amazing Spider-Man\n",
       "1065                                  Big Ass Spider!\n",
       "2524                                       Dark Blood\n",
       "2278                                      Harry Brown\n",
       "659      Harry Potter and the Deathly Hallows: Part 2\n",
       "2386    Harry Potter and the Deathly Hallows: Part II\n",
       "2790                         Spooks: The Greater Good\n",
       "464      Harry Potter and the Deathly Hallows: Part 1\n",
       "2319     Harry Potter and the Deathly Hallows: Part I\n",
       "2647                             The Harry Hill Movie\n",
       "Name: Title, dtype: object"
      ]
     },
     "execution_count": 18,
     "metadata": {},
     "output_type": "execute_result"
    }
   ],
   "source": [
    "#Spider-Man Results\n",
    "get_recommendations('The Amazing Spider-Man 2')"
   ]
  },
  {
   "cell_type": "markdown",
   "metadata": {},
   "source": [
    "When we see the recommender for The Amazing Spider-Man 2 we are pleased to see that the system does a great job in recommending the first Spider-Man movie. It also does great by picking other fantasy movies like Harry Potter. But when we look at our movie dataset we see that Spider-Man: Homecoming is there. The user most likely would be interested in that movie as well but our system missed it."
   ]
  },
  {
   "cell_type": "markdown",
   "metadata": {},
   "source": [
    "# Recommendations Based on Title\n",
    "Seeing as how our plot based recommender missed out on recommending the latest Spider-Man movie in the dataset when the user picked The Amazing Spider-Man 2, let's see if we can alter the function to picked based on movie titles."
   ]
  },
  {
   "cell_type": "code",
   "execution_count": 20,
   "metadata": {},
   "outputs": [
    {
     "data": {
      "text/plain": [
       "788         Amazing Spider-Man, TheThe Amazing Spider-Man\n",
       "1892                               Spider-Man: Homecoming\n",
       "355                                         A Serious Man\n",
       "2245                                        The Other Man\n",
       "2788                                               Man Up\n",
       "2802                              The Man from U.N.C.L.E.\n",
       "1065                                      Big Ass Spider!\n",
       "3781                        The Amazing Praybeyt Benjamin\n",
       "281                                       I Love You, Man\n",
       "787     Amazing Adventures of the Living Corpse, TheTh...\n",
       "Name: Title, dtype: object"
      ]
     },
     "execution_count": 20,
     "metadata": {},
     "output_type": "execute_result"
    }
   ],
   "source": [
    "#Rec Based on Title\n",
    "title_tfidf_matrix = tfidf.fit_transform(df['Title'])\n",
    "\n",
    "# Compute the cosine similarity matrix\n",
    "title_cosine_sim = linear_kernel(title_tfidf_matrix, title_tfidf_matrix)\n",
    "\n",
    "def get_recommendations_title(title, cosine_sim=cosine_sim):\n",
    "    # Get the index of the movie that matches the title\n",
    "    idx = indices[title]\n",
    "\n",
    "    # Get the pairwsie similarity scores of all movies with that movie\n",
    "    title_sim_scores = list(enumerate(title_cosine_sim[idx]))\n",
    "\n",
    "    # Sort the movies based on the similarity scores\n",
    "    title_sim_scores = sorted(title_sim_scores, key=lambda x: x[1], reverse=True)\n",
    "\n",
    "    # Get the scores of the 10 most similar movies\n",
    "    title_sim_scores = title_sim_scores[1:11]\n",
    "\n",
    "    # Get the movie indices\n",
    "    title_movie_indices = [i[0] for i in title_sim_scores]\n",
    "\n",
    "    # Return the top 10 most similar movies\n",
    "    return df['Title'].iloc[title_movie_indices]\n",
    "\n",
    "get_recommendations_title('The Amazing Spider-Man 2')\n"
   ]
  },
  {
   "cell_type": "markdown",
   "metadata": {},
   "source": [
    "The new function above allows the user to get both the first Amazing Spider-Man movie and also Spider-Man Homecoming. Based on titles the user will see all spider named movies. But the user will also miss out on movies like Harry Potter since none of the plot is taken into consideration."
   ]
  },
  {
   "cell_type": "markdown",
   "metadata": {},
   "source": [
    "# Conclusion\n",
    "Using TF-IDF made getting scores for the words in the plots straightforward. We were able to use those scores to see which plots used those words the most and make assumptions that those plots would be similar. In the case of Baby Mama and Smashed I think the user would have been pleased with the choice they got. Smashed is a comedy centered around people making better life choices while Baby Mama is a comedy about people learning from each other to have better lives. In the case of The Amazing Spider-Man 2, I'm pretty sure if the user chose to watch that theywould probably choose to watch the first one but I also think they would've liked to know that Spider-Man: Homecoming was available as well. \n",
    "\n",
    "The recommender system could use improvements by taking in more than just the frequency of words in the plot or the titles. Maybe adding in sentiment of the movie, reviews, or directors/ actors would make the recommendations more spot on. However, I'm pleased that the system did as well as it did with just 4,000 movies to chose from. "
   ]
  },
  {
   "cell_type": "code",
   "execution_count": null,
   "metadata": {},
   "outputs": [],
   "source": []
  }
 ],
 "metadata": {
  "kernelspec": {
   "display_name": "Python 3",
   "language": "python",
   "name": "python3"
  },
  "language_info": {
   "codemirror_mode": {
    "name": "ipython",
    "version": 3
   },
   "file_extension": ".py",
   "mimetype": "text/x-python",
   "name": "python",
   "nbconvert_exporter": "python",
   "pygments_lexer": "ipython3",
   "version": "3.6.5"
  }
 },
 "nbformat": 4,
 "nbformat_minor": 2
}
